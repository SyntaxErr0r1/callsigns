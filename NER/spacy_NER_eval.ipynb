{
 "cells": [
  {
   "attachments": {},
   "cell_type": "markdown",
   "metadata": {},
   "source": [
    "## Evaluation of NER model\n",
    "Author: Juraj Dedič"
   ]
  },
  {
   "cell_type": "code",
   "execution_count": 2,
   "metadata": {},
   "outputs": [],
   "source": [
    "#Import all required libraries\n",
    "import spacy\n",
    "import random\n",
    "import time\n",
    "import numpy as np\n",
    "import sys\n",
    "from spacy import displacy\n",
    "from itertools import chain\n",
    "import matplotlib.pyplot as plt \n",
    "from matplotlib.ticker import MaxNLocator\n",
    "import json"
   ]
  },
  {
   "cell_type": "code",
   "execution_count": null,
   "metadata": {},
   "outputs": [],
   "source": [
    "!pip install spacy-transformers"
   ]
  },
  {
   "cell_type": "markdown",
   "metadata": {},
   "source": [
    "Create base config file from here:https://spacy.io/usage/training#quickstart"
   ]
  },
  {
   "cell_type": "code",
   "execution_count": null,
   "metadata": {},
   "outputs": [],
   "source": [
    "!python -m spacy init fill-config base_config.cfg config.cfg"
   ]
  },
  {
   "cell_type": "markdown",
   "metadata": {},
   "source": [
    "Train using CLI"
   ]
  },
  {
   "cell_type": "code",
   "execution_count": 9,
   "metadata": {},
   "outputs": [
    {
     "name": "stdout",
     "output_type": "stream",
     "text": [
      "^C\n"
     ]
    }
   ],
   "source": [
    "!python -m spacy train config.cfg --verbose --output ./ner_demo/training/ --paths.train train.spacy --paths.dev validation.spacy"
   ]
  },
  {
   "cell_type": "markdown",
   "metadata": {},
   "source": [
    "Load our model and test data"
   ]
  },
  {
   "cell_type": "code",
   "execution_count": 26,
   "metadata": {},
   "outputs": [],
   "source": [
    "#import docbin\n",
    "import spacy\n",
    "from spacy.tokens import DocBin\n",
    "from spacy import displacy\n",
    "from spacy.scorer import Scorer\n",
    "from spacy.training import Example\n",
    "import spacy_transformers\n",
    "\n",
    "ner = spacy.load(R\"results/nc1/model-best\") #load the best model\n",
    "# test_sentences = [x[0] for x in TEST_DATA[0:100]] # extract the sentences from [sentence, entity]"
   ]
  },
  {
   "attachments": {},
   "cell_type": "markdown",
   "metadata": {},
   "source": [
    "### Evaluating "
   ]
  },
  {
   "cell_type": "code",
   "execution_count": 33,
   "metadata": {},
   "outputs": [],
   "source": [
    "db_test_correct = DocBin().from_disk(R\"v5-dataset/test.spacy\") #load the validation data\n",
    "docs_test_correct = db_test_correct.get_docs(ner.vocab) #get the validation data\n",
    "\n",
    "scorer = Scorer()\n",
    "examples = []\n",
    "\n",
    "for doc_correct in docs_test_correct:\n",
    "    text = doc_correct.text\n",
    "    doc_ner = ner(text) # predict the entities\n",
    "\n",
    "    #create the example\n",
    "    example = Example(doc_ner, doc_correct)\n",
    "    examples.append(example)\n",
    "\n",
    "    # print()\n",
    "    # entites_scored = scorer.score([example])[\"ents_per_type\"]\n",
    "\n",
    "    # if entites_scored and entites_scored[\"CALLSIGN\"][\"f\"] < 1:\n",
    "    #     # print(doc_correct.user_data[\"filename\"])\n",
    "    #     # print the predicted entities\n",
    "    #     displacy.render(doc_ner, style=\"ent\", jupyter=True)\n",
    "    #     # print the correct entities\n",
    "    #     displacy.render(doc_correct,jupyter=True, style = \"ent\")\n",
    "\n",
    "res = scorer.score(examples)\n"
   ]
  },
  {
   "cell_type": "code",
   "execution_count": 31,
   "metadata": {},
   "outputs": [
    {
     "data": {
      "text/html": [
       "<span class=\"tex2jax_ignore\"><div class=\"entities\" style=\"line-height: 2.5; direction: ltr\">\n",
       "<mark class=\"entity\" style=\"background: #ddd; padding: 0.45em 0.6em; margin: 0 0.25em; line-height: 1; border-radius: 0.35em;\">\n",
       "    Qlink Four Seven Eight\n",
       "    <span style=\"font-size: 0.8em; font-weight: bold; line-height: 1; border-radius: 0.35em; vertical-align: middle; margin-left: 0.5rem\">CALLSIGN</span>\n",
       "</mark>\n",
       " \n",
       "<mark class=\"entity\" style=\"background: #ddd; padding: 0.45em 0.6em; margin: 0 0.25em; line-height: 1; border-radius: 0.35em;\">\n",
       "    descend and maintain\n",
       "    <span style=\"font-size: 0.8em; font-weight: bold; line-height: 1; border-radius: 0.35em; vertical-align: middle; margin-left: 0.5rem\">COMMAND</span>\n",
       "</mark>\n",
       " \n",
       "<mark class=\"entity\" style=\"background: #ddd; padding: 0.45em 0.6em; margin: 0 0.25em; line-height: 1; border-radius: 0.35em;\">\n",
       "    three thousand feet\n",
       "    <span style=\"font-size: 0.8em; font-weight: bold; line-height: 1; border-radius: 0.35em; vertical-align: middle; margin-left: 0.5rem\">VALUE</span>\n",
       "</mark>\n",
       "</div></span>"
      ],
      "text/plain": [
       "<IPython.core.display.HTML object>"
      ]
     },
     "metadata": {},
     "output_type": "display_data"
    }
   ],
   "source": [
    "result = ner(\"Qlink Four Seven Eight descend and maintain three thousand feet\")\n",
    "displacy.render(result, style=\"ent\", jupyter=True)"
   ]
  },
  {
   "attachments": {},
   "cell_type": "markdown",
   "metadata": {},
   "source": [
    "### Getting the actual results per class"
   ]
  },
  {
   "cell_type": "code",
   "execution_count": 34,
   "metadata": {},
   "outputs": [
    {
     "name": "stdout",
     "output_type": "stream",
     "text": [
      "{'CALLSIGN': {'p': 0.9068825910931174, 'r': 0.8648648648648649, 'f': 0.8853754940711461}, 'COMMAND': {'p': 0.6, 'r': 0.672, 'f': 0.6339622641509434}, 'VALUE': {'p': 0.575, 'r': 0.5954692556634305, 'f': 0.5850556438791733}}\n"
     ]
    }
   ],
   "source": [
    "print(res[\"ents_per_type\"])"
   ]
  },
  {
   "cell_type": "markdown",
   "metadata": {},
   "source": [
    "Test with a sentence"
   ]
  },
  {
   "cell_type": "code",
   "execution_count": 4,
   "metadata": {},
   "outputs": [
    {
     "name": "stdout",
     "output_type": "stream",
     "text": [
      "/mnt/c/Users/Lenovo/Desktop/school/bp/ner_model\n"
     ]
    }
   ],
   "source": [
    "!wsl pwd"
   ]
  },
  {
   "cell_type": "code",
   "execution_count": 37,
   "metadata": {},
   "outputs": [
    {
     "name": "stderr",
     "output_type": "stream",
     "text": [
      "c:\\Python310\\lib\\site-packages\\spacy\\util.py:877: UserWarning: [W095] Model 'en_pipeline' (0.0.0) was trained with spaCy v3.4 and may not be 100% compatible with the current version (3.4.3). If you see errors or degraded performance, download a newer compatible model or retrain your custom model with the current spaCy version. For more details and available updates, run: python -m spacy validate\n",
      "  warnings.warn(warn_msg)\n",
      "c:\\Python310\\lib\\site-packages\\torch\\amp\\autocast_mode.py:198: UserWarning: User provided device_type of 'cuda', but CUDA is not available. Disabling\n",
      "  warnings.warn('User provided device_type of \\'cuda\\', but CUDA is not available. Disabling')\n"
     ]
    },
    {
     "data": {
      "text/html": [
       "<span class=\"tex2jax_ignore\"><div class=\"entities\" style=\"line-height: 2.5; direction: ltr\">\n",
       "<mark class=\"entity\" style=\"background: #ddd; padding: 0.45em 0.6em; margin: 0 0.25em; line-height: 1; border-radius: 0.35em;\">\n",
       "    Singapore Seven Two Nine Eight\n",
       "    <span style=\"font-size: 0.8em; font-weight: bold; line-height: 1; border-radius: 0.35em; vertical-align: middle; margin-left: 0.5rem\">CALLSIGN</span>\n",
       "</mark>\n",
       " contact departures good night</div></span>"
      ],
      "text/plain": [
       "<IPython.core.display.HTML object>"
      ]
     },
     "metadata": {},
     "output_type": "display_data"
    },
    {
     "ename": "TypeError",
     "evalue": "object of type 'generator' has no len()",
     "output_type": "error",
     "traceback": [
      "\u001b[1;31m---------------------------------------------------------------------------\u001b[0m",
      "\u001b[1;31mTypeError\u001b[0m                                 Traceback (most recent call last)",
      "Cell \u001b[1;32mIn [37], line 17\u001b[0m\n\u001b[0;32m     14\u001b[0m \u001b[39m# print(doc.ents.count)\u001b[39;00m\n\u001b[0;32m     16\u001b[0m \u001b[39mfor\u001b[39;00m i \u001b[39min\u001b[39;00m \u001b[39mrange\u001b[39m(\u001b[39m10\u001b[39m):\n\u001b[1;32m---> 17\u001b[0m     doc_correct \u001b[39m=\u001b[39m random\u001b[39m.\u001b[39;49mchoice(docs_test_correct)\n\u001b[0;32m     18\u001b[0m     text \u001b[39m=\u001b[39m doc_correct\u001b[39m.\u001b[39mtext\n\u001b[0;32m     19\u001b[0m     doc_ner \u001b[39m=\u001b[39m ner(text) \u001b[39m# predict the entities\u001b[39;00m\n",
      "File \u001b[1;32mc:\\Python310\\lib\\random.py:378\u001b[0m, in \u001b[0;36mRandom.choice\u001b[1;34m(self, seq)\u001b[0m\n\u001b[0;32m    376\u001b[0m \u001b[39m\"\"\"Choose a random element from a non-empty sequence.\"\"\"\u001b[39;00m\n\u001b[0;32m    377\u001b[0m \u001b[39m# raises IndexError if seq is empty\u001b[39;00m\n\u001b[1;32m--> 378\u001b[0m \u001b[39mreturn\u001b[39;00m seq[\u001b[39mself\u001b[39m\u001b[39m.\u001b[39m_randbelow(\u001b[39mlen\u001b[39;49m(seq))]\n",
      "\u001b[1;31mTypeError\u001b[0m: object of type 'generator' has no len()"
     ]
    }
   ],
   "source": [
    "# ner = spacy.load(R\"./results/ds5/ner_demo/training/model-best\") #load the best model\n",
    "# icao_callsigns_file = open(\"callsigns-icao-edit.json\")\n",
    "# icao_callsigns = json.load(icao_callsigns_file)\n",
    "\n",
    "ner = spacy.load(R\"results/ds5/model-best\") #load the best model\n",
    "\n",
    "db_test_correct = DocBin().from_disk(R\"test.spacy\") #load the validation data\n",
    "\n",
    "docs_test_correct = list(db_test_correct.get_docs(ner.vocab)) #get the validation data\n",
    "\n",
    "\n",
    "doc = ner(\"\"\"Singapore Seven Two Nine Eight contact departures good night\"\"\")\n",
    "displacy.render(doc,jupyter=True, style = \"ent\")\n",
    "# print(doc.ents.count)\n",
    "\n",
    "for i in range(10):\n",
    "    doc_correct = random.choice(docs_test_correct)\n",
    "    text = doc_correct.text\n",
    "    doc_ner = ner(text) # predict the entities\n",
    "    displacy.render(doc_ner, style=\"ent\", jupyter=True)\n",
    "    # displacy.render(doc_correct,jupyter=True, style = \"ent\")\n"
   ]
  },
  {
   "cell_type": "markdown",
   "metadata": {},
   "source": [
    "First test (Dataset Ruzyne only) - \"performance\":{\n",
    "    \"ents_f\":0.5396825397,\n",
    "    \"ents_p\":0.6538461538,\n",
    "    \"ents_r\":0.4594594595,\n",
    "    \"ents_per_type\":{\n",
    "      \"CALLSIGN\":{\n",
    "        \"p\":0.6538461538,\n",
    "        \"r\":0.4594594595,\n",
    "        \"f\":0.5396825397\n",
    "      }\n",
    "    },\n",
    "    \"transformer_loss\":0.0057586106,\n",
    "    \"ner_loss\":7611.5093182559\n",
    "  }"
   ]
  },
  {
   "cell_type": "code",
   "execution_count": 32,
   "metadata": {},
   "outputs": [
    {
     "data": {
      "text/html": [
       "<span class=\"tex2jax_ignore\"><div class=\"entities\" style=\"line-height: 2.5; direction: ltr\">\n",
       "<mark class=\"entity\" style=\"background: #ddd; padding: 0.45em 0.6em; margin: 0 0.25em; line-height: 1; border-radius: 0.35em;\">\n",
       "    Singapore Seven Two Nine Eight\n",
       "    <span style=\"font-size: 0.8em; font-weight: bold; line-height: 1; border-radius: 0.35em; vertical-align: middle; margin-left: 0.5rem\">CALLSIGN</span>\n",
       "</mark>\n",
       " contact departures good night</div></span>"
      ],
      "text/plain": [
       "<IPython.core.display.HTML object>"
      ]
     },
     "metadata": {},
     "output_type": "display_data"
    }
   ],
   "source": [
    "ner = spacy.load(R\"results/ds5/model-best\") #load the best model\n",
    "# icao_callsigns_file = open(\"callsigns-icao-edit.json\")\n",
    "# icao_callsigns = json.load(icao_callsigns_file)\n",
    "\n",
    "doc = ner(\"\"\"Singapore Seven Two Nine Eight contact departures good night\"\"\")\n",
    "displacy.render(doc,jupyter=True, style = \"ent\")\n",
    "# print(doc.ents.count)"
   ]
  },
  {
   "cell_type": "code",
   "execution_count": 23,
   "metadata": {},
   "outputs": [],
   "source": [
    "from spacy.tokens import DocBin\n",
    "\n",
    "db_test = DocBin().from_disk(R\"test.spacy\") #load the validation data\n",
    "db_test2 = DocBin().from_disk(R\"test2.spacy\") #load the validation data\n",
    "docs_test = list(db_test.get_docs(ner.vocab)) #get the validation data\n",
    "docs_test2 = list(db_test2.get_docs(ner.vocab)) #get the validation data"
   ]
  },
  {
   "cell_type": "code",
   "execution_count": null,
   "metadata": {},
   "outputs": [],
   "source": []
  },
  {
   "cell_type": "code",
   "execution_count": 26,
   "metadata": {},
   "outputs": [
    {
     "name": "stderr",
     "output_type": "stream",
     "text": [
      "c:\\Python310\\lib\\site-packages\\torch\\amp\\autocast_mode.py:198: UserWarning: User provided device_type of 'cuda', but CUDA is not available. Disabling\n",
      "  warnings.warn('User provided device_type of \\'cuda\\', but CUDA is not available. Disabling')\n"
     ]
    },
    {
     "data": {
      "text/html": [
       "<span class=\"tex2jax_ignore\"><div class=\"entities\" style=\"line-height: 2.5; direction: ltr\">one two six decimal one \n",
       "<mark class=\"entity\" style=\"background: #ddd; padding: 0.45em 0.6em; margin: 0 0.25em; line-height: 1; border-radius: 0.35em;\">\n",
       "    naslysenou dekuji\n",
       "    <span style=\"font-size: 0.8em; font-weight: bold; line-height: 1; border-radius: 0.35em; vertical-align: middle; margin-left: 0.5rem\">CALLSIGN</span>\n",
       "</mark>\n",
       " </div></span>"
      ],
      "text/plain": [
       "<IPython.core.display.HTML object>"
      ]
     },
     "metadata": {},
     "output_type": "display_data"
    },
    {
     "name": "stderr",
     "output_type": "stream",
     "text": [
      "c:\\Python310\\lib\\site-packages\\spacy\\displacy\\__init__.py:206: UserWarning: [W006] No entities to visualize found in Doc object. If this is surprising to you, make sure the Doc was processed using a model that supports named entity recognition, and check the `doc.ents` property manually if necessary.\n",
      "  warnings.warn(Warnings.W006)\n"
     ]
    },
    {
     "data": {
      "text/html": [
       "<span class=\"tex2jax_ignore\"><div class=\"entities\" style=\"line-height: 2.5; direction: ltr\">one two six decimal one naslysenou dekuji </div></span>"
      ],
      "text/plain": [
       "<IPython.core.display.HTML object>"
      ]
     },
     "metadata": {},
     "output_type": "display_data"
    },
    {
     "name": "stdout",
     "output_type": "stream",
     "text": [
      "naslysenou dekuji\n"
     ]
    }
   ],
   "source": [
    "# doc = ner(\"\"\"Singapore Seven Two Nine Eight contact departures good night\"\"\")\n",
    "doc_reference = docs_test[1]\n",
    "doc_prediction = ner(doc_reference.text)\n",
    "displacy.render(doc_prediction,jupyter=True, style = \"ent\")\n",
    "displacy.render(doc_reference,jupyter=True, style = \"ent\")\n",
    "print(doc_prediction.ents[0])"
   ]
  }
 ],
 "metadata": {
  "kernelspec": {
   "display_name": "Python 3.10.8 64-bit",
   "language": "python",
   "name": "python3"
  },
  "language_info": {
   "codemirror_mode": {
    "name": "ipython",
    "version": 3
   },
   "file_extension": ".py",
   "mimetype": "text/x-python",
   "name": "python",
   "nbconvert_exporter": "python",
   "pygments_lexer": "ipython3",
   "version": "3.10.8"
  },
  "orig_nbformat": 4,
  "vscode": {
   "interpreter": {
    "hash": "369f2c481f4da34e4445cda3fffd2e751bd1c4d706f27375911949ba6bb62e1c"
   }
  }
 },
 "nbformat": 4,
 "nbformat_minor": 2
}
